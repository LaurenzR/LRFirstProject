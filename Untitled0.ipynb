{
  "nbformat": 4,
  "nbformat_minor": 0,
  "metadata": {
    "colab": {
      "name": "Untitled0.ipynb",
      "version": "0.3.2",
      "provenance": [],
      "toc_visible": true,
      "include_colab_link": true
    },
    "kernelspec": {
      "name": "python3",
      "display_name": "Python 3"
    }
  },
  "cells": [
    {
      "cell_type": "markdown",
      "metadata": {
        "id": "view-in-github",
        "colab_type": "text"
      },
      "source": [
        "<a href=\"https://colab.research.google.com/github/LaurenzR/LRFirstProject/blob/master/Untitled0.ipynb\" target=\"_parent\"><img src=\"https://colab.research.google.com/assets/colab-badge.svg\" alt=\"Open In Colab\"/></a>"
      ]
    },
    {
      "cell_type": "markdown",
      "metadata": {
        "id": "7jTqBPM4yCt-",
        "colab_type": "text"
      },
      "source": [
        "# OMDB Exploratory Analysis\n",
        "\n",
        "In this notebook, we will explore a few key characteristics of an OMDB dataset."
      ]
    },
    {
      "cell_type": "code",
      "metadata": {
        "id": "x6XdcTOxzxjf",
        "colab_type": "code",
        "colab": {
          "base_uri": "https://localhost:8080/",
          "height": 34
        },
        "outputId": "ddd1a24b-7be9-4f67-eb28-973ff4bcf918"
      },
      "source": [
        "!ls"
      ],
      "execution_count": 14,
      "outputs": [
        {
          "output_type": "stream",
          "text": [
            "movies_rated.csv  sample_data\n"
          ],
          "name": "stdout"
        }
      ]
    },
    {
      "cell_type": "code",
      "metadata": {
        "id": "olHFhGoAzb0o",
        "colab_type": "code",
        "colab": {
          "base_uri": "https://localhost:8080/",
          "height": 153
        },
        "outputId": "f2be705e-ec73-404b-e0a0-6fdd60caac38"
      },
      "source": [
        "import pandas as pd\n",
        "\n",
        "omdb_df = pd.read_csv('movies_rated.csv')\n",
        "print(omdb_df.head())"
      ],
      "execution_count": 13,
      "outputs": [
        {
          "output_type": "stream",
          "text": [
            "                      title  year  ... Rotten Tomatoes Metacritic\n",
            "0  The Shawshank Redemption  1994  ...             9.1        8.0\n",
            "1             The Godfather  1972  ...             9.8       10.0\n",
            "2           The Dark Knight  2008  ...             9.4        8.2\n",
            "3    The Godfather: Part II  1974  ...             9.7        9.0\n",
            "4              Pulp Fiction  1994  ...             9.4        9.4\n",
            "\n",
            "[5 rows x 9 columns]\n"
          ],
          "name": "stdout"
        }
      ]
    },
    {
      "cell_type": "markdown",
      "metadata": {
        "id": "Dxz0TwYi1YtV",
        "colab_type": "text"
      },
      "source": [
        "# Num Rows / Cols in this dataset"
      ]
    },
    {
      "cell_type": "code",
      "metadata": {
        "id": "hEN_qnbX1N_s",
        "colab_type": "code",
        "colab": {
          "base_uri": "https://localhost:8080/",
          "height": 34
        },
        "outputId": "7ee1ae70-82ce-4a42-d656-34de0740036d"
      },
      "source": [
        "omdb_df.shape"
      ],
      "execution_count": 16,
      "outputs": [
        {
          "output_type": "execute_result",
          "data": {
            "text/plain": [
              "(79, 9)"
            ]
          },
          "metadata": {
            "tags": []
          },
          "execution_count": 16
        }
      ]
    },
    {
      "cell_type": "markdown",
      "metadata": {
        "id": "717tquAn1iuj",
        "colab_type": "text"
      },
      "source": [
        "# Print out column names"
      ]
    },
    {
      "cell_type": "code",
      "metadata": {
        "id": "aQ3EuGyy14Yo",
        "colab_type": "code",
        "colab": {
          "base_uri": "https://localhost:8080/",
          "height": 68
        },
        "outputId": "c59766c2-57de-457c-80bf-5872b40ed6cc"
      },
      "source": [
        "omdb_df.columns"
      ],
      "execution_count": 17,
      "outputs": [
        {
          "output_type": "execute_result",
          "data": {
            "text/plain": [
              "Index(['title', 'year', 'content_rating', 'genre', 'duration', 'gross',\n",
              "       'Internet Movie Database', 'Rotten Tomatoes', 'Metacritic'],\n",
              "      dtype='object')"
            ]
          },
          "metadata": {
            "tags": []
          },
          "execution_count": 17
        }
      ]
    },
    {
      "cell_type": "markdown",
      "metadata": {
        "id": "k8QlxQHr19YI",
        "colab_type": "text"
      },
      "source": [
        "# data types"
      ]
    },
    {
      "cell_type": "code",
      "metadata": {
        "id": "OcNm_T_K18b1",
        "colab_type": "code",
        "colab": {
          "base_uri": "https://localhost:8080/",
          "height": 187
        },
        "outputId": "90d84170-5e1b-4b5e-cfde-366ecb62ea65"
      },
      "source": [
        "omdb_df.dtypes"
      ],
      "execution_count": 18,
      "outputs": [
        {
          "output_type": "execute_result",
          "data": {
            "text/plain": [
              "title                       object\n",
              "year                         int64\n",
              "content_rating              object\n",
              "genre                       object\n",
              "duration                     int64\n",
              "gross                        int64\n",
              "Internet Movie Database    float64\n",
              "Rotten Tomatoes            float64\n",
              "Metacritic                 float64\n",
              "dtype: object"
            ]
          },
          "metadata": {
            "tags": []
          },
          "execution_count": 18
        }
      ]
    },
    {
      "cell_type": "markdown",
      "metadata": {
        "id": "ZG3GyooP2HFK",
        "colab_type": "text"
      },
      "source": [
        "# Number of unique genres"
      ]
    },
    {
      "cell_type": "code",
      "metadata": {
        "id": "eeJ8jIXP2KuL",
        "colab_type": "code",
        "colab": {
          "base_uri": "https://localhost:8080/",
          "height": 34
        },
        "outputId": "2dc58ae0-8e3d-420f-d6fd-9ece5401eacb"
      },
      "source": [
        "omdb_df['genre'].nunique()"
      ],
      "execution_count": 19,
      "outputs": [
        {
          "output_type": "execute_result",
          "data": {
            "text/plain": [
              "12"
            ]
          },
          "metadata": {
            "tags": []
          },
          "execution_count": 19
        }
      ]
    },
    {
      "cell_type": "markdown",
      "metadata": {
        "id": "TDbyXAjm2WTN",
        "colab_type": "text"
      },
      "source": [
        "# Movies per Genre"
      ]
    },
    {
      "cell_type": "code",
      "metadata": {
        "id": "nxeoeEgt2aic",
        "colab_type": "code",
        "colab": {
          "base_uri": "https://localhost:8080/",
          "height": 238
        },
        "outputId": "ab32c257-2154-4798-f876-b29e96abfcc3"
      },
      "source": [
        "omdb_df['genre'].value_counts()"
      ],
      "execution_count": 20,
      "outputs": [
        {
          "output_type": "execute_result",
          "data": {
            "text/plain": [
              "Crime                  16\n",
              "Drama                  14\n",
              "Action                 11\n",
              "Adventure               9\n",
              "Drama                   7\n",
              "Biography               5\n",
              "Animation               5\n",
              "Comedy                  4\n",
              "Western                 3\n",
              "Mystery                 2\n",
              "Horror                  2\n",
              "Comedy                  1\n",
              "Name: genre, dtype: int64"
            ]
          },
          "metadata": {
            "tags": []
          },
          "execution_count": 20
        }
      ]
    },
    {
      "cell_type": "code",
      "metadata": {
        "id": "ERf3kOo42iGH",
        "colab_type": "code",
        "colab": {
          "base_uri": "https://localhost:8080/",
          "height": 34
        },
        "outputId": "142fbf86-1fbe-4fd3-e8b3-48ec127fbdd1"
      },
      "source": [
        "omdb_df[['genre','title']].groupby('genre')"
      ],
      "execution_count": 23,
      "outputs": [
        {
          "output_type": "execute_result",
          "data": {
            "text/plain": [
              "<pandas.core.groupby.generic.DataFrameGroupBy object at 0x7f597d2b6320>"
            ]
          },
          "metadata": {
            "tags": []
          },
          "execution_count": 23
        }
      ]
    },
    {
      "cell_type": "markdown",
      "metadata": {
        "id": "97H991c83deW",
        "colab_type": "text"
      },
      "source": [
        "# average Rotten Tomatoes score for all available films"
      ]
    },
    {
      "cell_type": "code",
      "metadata": {
        "id": "6THHI3hp3hyP",
        "colab_type": "code",
        "colab": {
          "base_uri": "https://localhost:8080/",
          "height": 34
        },
        "outputId": "63d86bca-1e46-4a4c-bdf4-51d52d5212bd"
      },
      "source": [
        "omdb_df['Rotten Tomatoes'].mean()"
      ],
      "execution_count": 24,
      "outputs": [
        {
          "output_type": "execute_result",
          "data": {
            "text/plain": [
              "9.087341772151895"
            ]
          },
          "metadata": {
            "tags": []
          },
          "execution_count": 24
        }
      ]
    }
  ]
}